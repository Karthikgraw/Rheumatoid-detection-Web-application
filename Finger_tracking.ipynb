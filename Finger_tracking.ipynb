{
 "cells": [
  {
   "cell_type": "code",
   "execution_count": 1,
   "id": "79a7cf59",
   "metadata": {},
   "outputs": [],
   "source": [
    "# !pip install mediapipe\n",
    "from matplotlib import pyplot as plt\n",
    "from matplotlib import image\n",
    "import numpy as np\n",
    "    \n",
    "import cv2\n",
    "import mediapipe as mp"
   ]
  },
  {
   "cell_type": "code",
   "execution_count": 2,
   "id": "980c0399",
   "metadata": {},
   "outputs": [],
   "source": [
    "joint_list = [[8,7,6,5], [12,11,10,9], [16,15,14,13], [20,19,18,17]]"
   ]
  },
  {
   "cell_type": "code",
   "execution_count": 6,
   "id": "dac3ca32",
   "metadata": {},
   "outputs": [],
   "source": [
    "def draw_finger_angles(request, image, results, joint_list):\n",
    "    \n",
    "    \n",
    "    # Loop through hands\n",
    "    for hand in results.multi_hand_landmarks:\n",
    "        #Loop through joint sets \n",
    "        for joint in joint_list:\n",
    "            a = np.array([hand.landmark[joint[0]].x, hand.landmark[joint[0]].y]) # First coord\n",
    "            b = np.array([hand.landmark[joint[1]].x, hand.landmark[joint[1]].y]) # Second coord\n",
    "            c = np.array([hand.landmark[joint[2]].x, hand.landmark[joint[2]].y]) # Third coord\n",
    "            d = np.array([hand.landmark[joint[3]].x, hand.landmark[joint[3]].y]) #fourth coord\n",
    "\n",
    "            radians_1 = np.arctan2(c[1] - b[1], c[0]-b[0]) - np.arctan2(a[1]-b[1], a[0]-b[0])\n",
    "            angle_1 = np.abs(radians_1*180.0/np.pi)\n",
    "            radians_2 = np.arctan2(d[1] - c[1], d[0]-c[0]) - np.arctan2(b[1]-c[1], b[0]-c[0])\n",
    "            angle_2 = np.abs(radians_2*180.0/np.pi)\n",
    "\n",
    "            if angle_1 > 180.0:\n",
    "                angle_1 = 360-angle_1\n",
    "                \n",
    "                    \n",
    "            if angle_2 > 180.0:\n",
    "                angle_2 = 360-angle_2\n",
    "            \n",
    "            if angle_1<175:\n",
    "                    cv2.putText(image, str(round(angle_1, 2)), tuple(np.multiply(b, [image.shape[1], image.shape[0]]).astype(int)),\n",
    "                       cv2.FONT_HERSHEY_SIMPLEX, 0.5, (0, 0, 255), 1, cv2.LINE_AA)\n",
    "            else:\n",
    "                cv2.putText(image, str(round(angle_1, 2)), tuple(np.multiply(b, [image.shape[1], image.shape[0]]).astype(int)),\n",
    "                       cv2.FONT_HERSHEY_SIMPLEX, 0.5, (0, 255, 0), 1, cv2.LINE_AA)\n",
    "            if angle_2<175:\n",
    "                    cv2.putText(image, str(round(angle_2, 2)), tuple(np.multiply(c, [image.shape[1], image.shape[0]]).astype(int)),\n",
    "                       cv2.FONT_HERSHEY_SIMPLEX, 0.5, (0, 0, 255), 1, cv2.LINE_AA)\n",
    "            else:\n",
    "                cv2.putText(image, str(round(angle_2, 2)), tuple(np.multiply(c, [image.shape[1], image.shape[0]]).astype(int)),\n",
    "                       cv2.FONT_HERSHEY_SIMPLEX, 0.5, (0, 255, 0), 1, cv2.LINE_AA)\n",
    "                    \n",
    "            \n",
    "           \n",
    "            \n",
    "    return image\n"
   ]
  },
  {
   "cell_type": "code",
   "execution_count": 7,
   "id": "cba43f2e",
   "metadata": {},
   "outputs": [
    {
     "ename": "NameError",
     "evalue": "name 'request' is not defined",
     "output_type": "error",
     "traceback": [
      "\u001b[1;31m---------------------------------------------------------------------------\u001b[0m",
      "\u001b[1;31mNameError\u001b[0m                                 Traceback (most recent call last)",
      "Input \u001b[1;32mIn [7]\u001b[0m, in \u001b[0;36m<cell line: 11>\u001b[1;34m()\u001b[0m\n\u001b[0;32m      5\u001b[0m \u001b[38;5;66;03m# For static images:\u001b[39;00m\n\u001b[0;32m      6\u001b[0m mp_model \u001b[38;5;241m=\u001b[39m mp_hands\u001b[38;5;241m.\u001b[39mHands(\n\u001b[0;32m      7\u001b[0m     static_image_mode\u001b[38;5;241m=\u001b[39m\u001b[38;5;28;01mTrue\u001b[39;00m, \u001b[38;5;66;03m# only static images\u001b[39;00m\n\u001b[0;32m      8\u001b[0m     max_num_hands\u001b[38;5;241m=\u001b[39m\u001b[38;5;241m2\u001b[39m, \u001b[38;5;66;03m# max 2 hands detection\u001b[39;00m\n\u001b[0;32m      9\u001b[0m     min_detection_confidence\u001b[38;5;241m=\u001b[39m\u001b[38;5;241m0.5\u001b[39m) \u001b[38;5;66;03m# detection confidence\u001b[39;00m\n\u001b[1;32m---> 11\u001b[0m image_file \u001b[38;5;241m=\u001b[39m \u001b[43mrequest\u001b[49m\u001b[38;5;241m.\u001b[39mFILES[\u001b[38;5;124m'\u001b[39m\u001b[38;5;124mimage\u001b[39m\u001b[38;5;124m'\u001b[39m]\n\u001b[0;32m     13\u001b[0m image \u001b[38;5;241m=\u001b[39m cv2\u001b[38;5;241m.\u001b[39mimread(image_file\u001b[38;5;241m.\u001b[39mpath)\n\u001b[0;32m     15\u001b[0m image \u001b[38;5;241m=\u001b[39m cv2\u001b[38;5;241m.\u001b[39mflip(image, \u001b[38;5;241m1\u001b[39m)\n",
      "\u001b[1;31mNameError\u001b[0m: name 'request' is not defined"
     ]
    }
   ],
   "source": [
    "\n",
    "mp_drawing = mp.solutions.drawing_utils\n",
    "mp_drawing_styles = mp.solutions.drawing_styles\n",
    "mp_hands = mp.solutions.hands\n",
    "\n",
    "# For static images:\n",
    "mp_model = mp_hands.Hands(\n",
    "    static_image_mode=True, # only static images\n",
    "    max_num_hands=2, # max 2 hands detection\n",
    "    min_detection_confidence=0.5) # detection confidence\n",
    "\n",
    "image_file = request.FILES['image']\n",
    "\n",
    "image = cv2.imread(image_file.path)\n",
    "\n",
    "image = cv2.flip(image, 1)\n",
    "\n",
    "results = mp_model.process(cv2.cvtColor(image, cv2.COLOR_BGR2RGB))\n",
    "\n",
    "\n",
    "\n",
    "# Detections\n",
    "# print(results)\n",
    "# print(results.multi_handedness)\n",
    "\n",
    "\n",
    "\n",
    "\n",
    "image_height, image_width, _ = image.shape\n",
    "annotated_image = image.copy()\n",
    "for hand_landmarks in results.multi_hand_landmarks:\n",
    "    print('hand_landmarks:', hand_landmarks)\n",
    "    print(\n",
    "      f'Index finger tip coordinates: (',\n",
    "      f'{hand_landmarks.landmark[mp_hands.HandLandmark.INDEX_FINGER_TIP].x * image_width}, '\n",
    "      f'{hand_landmarks.landmark[mp_hands.HandLandmark.INDEX_FINGER_TIP].y * image_height})'\n",
    "    )\n",
    "    \n",
    "\n",
    "if results.multi_hand_landmarks:\n",
    "    for num, hand in enumerate(results.multi_hand_landmarks):\n",
    "        mp_drawing.draw_landmarks(\n",
    "            image, \n",
    "            hand, \n",
    "            mp_hands.HAND_CONNECTIONS, \n",
    "            mp_drawing.DrawingSpec(color=(121, 22, 76), thickness=2, circle_radius=4),\n",
    "            mp_drawing.DrawingSpec(color=(250, 44, 250), thickness=2, circle_radius=2),\n",
    "        )\n",
    "\n",
    "    \n",
    "    # Draw angles to image from joint list\n",
    "    draw_finger_angles(image, results, joint_list)\n",
    "\n",
    "\n",
    "\n",
    "cv2.imshow('Hand Tracking', image)\n",
    "cv2.waitKey(0)\n"
   ]
  },
  {
   "cell_type": "code",
   "execution_count": null,
   "id": "8f759cfd",
   "metadata": {},
   "outputs": [],
   "source": []
  },
  {
   "cell_type": "code",
   "execution_count": null,
   "id": "f3c2013e",
   "metadata": {},
   "outputs": [],
   "source": []
  }
 ],
 "metadata": {
  "kernelspec": {
   "display_name": "Python 3 (ipykernel)",
   "language": "python",
   "name": "python3"
  },
  "language_info": {
   "codemirror_mode": {
    "name": "ipython",
    "version": 3
   },
   "file_extension": ".py",
   "mimetype": "text/x-python",
   "name": "python",
   "nbconvert_exporter": "python",
   "pygments_lexer": "ipython3",
   "version": "3.8.6"
  }
 },
 "nbformat": 4,
 "nbformat_minor": 5
}
